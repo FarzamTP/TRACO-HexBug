{
 "cells": [
  {
   "cell_type": "code",
   "execution_count": null,
   "id": "83c2a0e2",
   "metadata": {},
   "outputs": [],
   "source": [
    "import os\n",
    "import json\n",
    "import torch\n",
    "import numpy as np\n",
    "import cv2\n",
    "import pandas as pd\n",
    "from time import time\n",
    "from ultralytics import YOLO\n",
    "import supervision as sv"
   ]
  },
  {
   "cell_type": "code",
   "execution_count": null,
   "id": "30513f2c",
   "metadata": {},
   "outputs": [],
   "source": [
    "bug_model = '/home/farzam/workspace/python/ml/Courses/TRACO/junkTest/runs/detect/train2/weights/best.pt'"
   ]
  },
  {
   "cell_type": "code",
   "execution_count": 1,
   "id": "be7b8554",
   "metadata": {},
   "outputs": [],
   "source": [
    "class ObjectDetection:\n",
    "\n",
    "    def __init__(self, capture_index):\n",
    "\n",
    "        self.capture_index = capture_index\n",
    "\n",
    "        self.device = 'cuda' if torch.cuda.is_available() else 'cpu'\n",
    "        \n",
    "        print(\"Using Device: \", self.device)\n",
    "\n",
    "        self.model = self.load_model()\n",
    "\n",
    "        self.CLASS_NAMES_DICT = self.model.model.names\n",
    "\n",
    "        print(self.CLASS_NAMES_DICT)\n",
    "\n",
    "        self.box_annotator = sv.BoxAnnotator(sv.ColorPalette.default(), thickness=2, text_thickness=1, text_scale=1)\n",
    "\n",
    "    def load_model(self):\n",
    "\n",
    "        model = YOLO(bug_model)\n",
    "        model.fuse()\n",
    "\n",
    "        return model\n",
    "\n",
    "    def predict(self, frame):\n",
    "\n",
    "        results = self.model(frame)\n",
    "\n",
    "        return results\n",
    "\n",
    "    def plot_bboxes(self, results, frame):\n",
    "\n",
    "        xyxys = []\n",
    "        confidences = []\n",
    "        class_ids = []\n",
    "\n",
    "        # Extract detections for person class\n",
    "        for result in results:\n",
    "            boxes = result.boxes.cpu().numpy()\n",
    "            if len(boxes) > 0:\n",
    "                class_id = boxes.cls[0]\n",
    "                conf = boxes.conf[0]\n",
    "                xyxy = boxes.xyxy[0]\n",
    "\n",
    "                if class_id == 0.0:\n",
    "                    xyxys.append(result.boxes.xyxy.cpu().numpy())\n",
    "                    confidences.append(result.boxes.conf.cpu().numpy())\n",
    "                    class_ids.append(result.boxes.cls.cpu().numpy().astype(int))\n",
    "\n",
    "        # Setup detections for visualization\n",
    "        detections = sv.Detections(\n",
    "            xyxy=results[0].boxes.xyxy.cpu().numpy(),\n",
    "            confidence=results[0].boxes.conf.cpu().numpy(),\n",
    "            class_id=results[0].boxes.cls.cpu().numpy().astype(int),\n",
    "        )\n",
    "\n",
    "        # Format custom labels\n",
    "        self.labels = [f\"{self.CLASS_NAMES_DICT[class_id]} {confidence:0.2f}\"\n",
    "                       for _, _, confidence, class_id, tracker_id\n",
    "                       in detections]\n",
    "\n",
    "        # Annotate and display frame\n",
    "        frame = self.box_annotator.annotate(scene=frame, detections=detections, labels=self.labels)\n",
    "\n",
    "        return frame\n",
    "\n",
    "    def __call__(self):\n",
    "\n",
    "        cap = cv2.VideoCapture(self.capture_index)\n",
    "        assert cap.isOpened()\n",
    "        cap.set(cv2.CAP_PROP_FRAME_WIDTH, 1280)\n",
    "        cap.set(cv2.CAP_PROP_FRAME_HEIGHT, 720)\n",
    "\n",
    "        while True:\n",
    "\n",
    "            start_time = time()\n",
    "\n",
    "            ret, frame = cap.read()\n",
    "            assert ret\n",
    "\n",
    "            results = self.predict(frame)\n",
    "            frame = self.plot_bboxes(results, frame)\n",
    "\n",
    "            end_time = time()\n",
    "            fps = 1 / np.round(end_time - start_time, 2)\n",
    "\n",
    "            cv2.putText(frame, f'FPS: {int(fps)}', (20, 70), cv2.FONT_HERSHEY_SIMPLEX, 1.5, (0, 255, 0), 2)\n",
    "\n",
    "            cv2.imshow('YOLOv8 Detection', frame)\n",
    "\n",
    "            if cv2.waitKey(5) & 0xFF == 27:\n",
    "                break\n",
    "\n",
    "        cap.release()\n",
    "        cv2.destroyAllWindows()"
   ]
  },
  {
   "cell_type": "code",
   "execution_count": 2,
   "id": "657d1987",
   "metadata": {},
   "outputs": [
    {
     "ename": "NameError",
     "evalue": "name 'torch' is not defined",
     "output_type": "error",
     "traceback": [
      "\u001b[0;31m---------------------------------------------------------------------------\u001b[0m",
      "\u001b[0;31mNameError\u001b[0m                                 Traceback (most recent call last)",
      "Cell \u001b[0;32mIn[2], line 1\u001b[0m\n\u001b[0;32m----> 1\u001b[0m detector \u001b[38;5;241m=\u001b[39m \u001b[43mObjectDetection\u001b[49m\u001b[43m(\u001b[49m\u001b[43mcapture_index\u001b[49m\u001b[38;5;241;43m=\u001b[39;49m\u001b[38;5;241;43m0\u001b[39;49m\u001b[43m)\u001b[49m\n",
      "Cell \u001b[0;32mIn[1], line 7\u001b[0m, in \u001b[0;36mObjectDetection.__init__\u001b[0;34m(self, capture_index)\u001b[0m\n\u001b[1;32m      3\u001b[0m \u001b[38;5;28;01mdef\u001b[39;00m \u001b[38;5;21m__init__\u001b[39m(\u001b[38;5;28mself\u001b[39m, capture_index):\n\u001b[1;32m      5\u001b[0m     \u001b[38;5;28mself\u001b[39m\u001b[38;5;241m.\u001b[39mcapture_index \u001b[38;5;241m=\u001b[39m capture_index\n\u001b[0;32m----> 7\u001b[0m     \u001b[38;5;28mself\u001b[39m\u001b[38;5;241m.\u001b[39mdevice \u001b[38;5;241m=\u001b[39m \u001b[38;5;124m'\u001b[39m\u001b[38;5;124mcuda\u001b[39m\u001b[38;5;124m'\u001b[39m \u001b[38;5;28;01mif\u001b[39;00m \u001b[43mtorch\u001b[49m\u001b[38;5;241m.\u001b[39mcuda\u001b[38;5;241m.\u001b[39mis_available() \u001b[38;5;28;01melse\u001b[39;00m \u001b[38;5;124m'\u001b[39m\u001b[38;5;124mcpu\u001b[39m\u001b[38;5;124m'\u001b[39m\n\u001b[1;32m      9\u001b[0m     \u001b[38;5;28mprint\u001b[39m(\u001b[38;5;124m\"\u001b[39m\u001b[38;5;124mUsing Device: \u001b[39m\u001b[38;5;124m\"\u001b[39m, \u001b[38;5;28mself\u001b[39m\u001b[38;5;241m.\u001b[39mdevice)\n\u001b[1;32m     11\u001b[0m     \u001b[38;5;28mself\u001b[39m\u001b[38;5;241m.\u001b[39mmodel \u001b[38;5;241m=\u001b[39m \u001b[38;5;28mself\u001b[39m\u001b[38;5;241m.\u001b[39mload_model()\n",
      "\u001b[0;31mNameError\u001b[0m: name 'torch' is not defined"
     ]
    }
   ],
   "source": [
    "detector = ObjectDetection(capture_index=0)"
   ]
  },
  {
   "cell_type": "code",
   "execution_count": null,
   "id": "ca4370bf",
   "metadata": {},
   "outputs": [],
   "source": [
    "# detector()"
   ]
  },
  {
   "cell_type": "code",
   "execution_count": 3,
   "id": "ac260006",
   "metadata": {},
   "outputs": [
    {
     "ename": "NameError",
     "evalue": "name 'os' is not defined",
     "output_type": "error",
     "traceback": [
      "\u001b[0;31m---------------------------------------------------------------------------\u001b[0m",
      "\u001b[0;31mNameError\u001b[0m                                 Traceback (most recent call last)",
      "Cell \u001b[0;32mIn[3], line 1\u001b[0m\n\u001b[0;32m----> 1\u001b[0m \u001b[38;5;28;01mif\u001b[39;00m \u001b[38;5;129;01mnot\u001b[39;00m \u001b[43mos\u001b[49m\u001b[38;5;241m.\u001b[39mpath\u001b[38;5;241m.\u001b[39mexists(\u001b[38;5;124m'\u001b[39m\u001b[38;5;124mcropped_bugs\u001b[39m\u001b[38;5;124m'\u001b[39m):\n\u001b[1;32m      2\u001b[0m     os\u001b[38;5;241m.\u001b[39mmkdir(\u001b[38;5;124m'\u001b[39m\u001b[38;5;124mcropped_bugs\u001b[39m\u001b[38;5;124m'\u001b[39m)\n\u001b[1;32m      4\u001b[0m data \u001b[38;5;241m=\u001b[39m pd\u001b[38;5;241m.\u001b[39mDataFrame(columns\u001b[38;5;241m=\u001b[39m[\u001b[38;5;124m'\u001b[39m\u001b[38;5;124mCroppedHexBugCoordinationX\u001b[39m\u001b[38;5;124m'\u001b[39m, \u001b[38;5;124m'\u001b[39m\u001b[38;5;124mCroppedHexBugCoordinationY\u001b[39m\u001b[38;5;124m'\u001b[39m,\n\u001b[1;32m      5\u001b[0m                              \u001b[38;5;124m'\u001b[39m\u001b[38;5;124mOriginalBoxCoordinationX1\u001b[39m\u001b[38;5;124m'\u001b[39m, \u001b[38;5;124m'\u001b[39m\u001b[38;5;124mOriginalBoxCoordinationX2\u001b[39m\u001b[38;5;124m'\u001b[39m,\n\u001b[1;32m      6\u001b[0m                              \u001b[38;5;124m'\u001b[39m\u001b[38;5;124mOriginalBoxCoordinationY1\u001b[39m\u001b[38;5;124m'\u001b[39m, \u001b[38;5;124m'\u001b[39m\u001b[38;5;124mOriginalBoxCoordinationY2\u001b[39m\u001b[38;5;124m'\u001b[39m, \u001b[38;5;124m'\u001b[39m\u001b[38;5;124mPath\u001b[39m\u001b[38;5;124m'\u001b[39m, \u001b[38;5;124m'\u001b[39m\u001b[38;5;124mID\u001b[39m\u001b[38;5;124m'\u001b[39m])\n",
      "\u001b[0;31mNameError\u001b[0m: name 'os' is not defined"
     ]
    }
   ],
   "source": [
    "if not os.path.exists('cropped_bugs'):\n",
    "    os.mkdir('cropped_bugs')\n",
    "\n",
    "data = pd.DataFrame(columns=['CroppedHexBugCoordinationX', 'CroppedHexBugCoordinationY',\n",
    "                             'OriginalBoxCoordinationX1', 'OriginalBoxCoordinationX2',\n",
    "                             'OriginalBoxCoordinationY1', 'OriginalBoxCoordinationY2', 'Path', 'ID'])"
   ]
  },
  {
   "cell_type": "code",
   "execution_count": 4,
   "id": "9452bb82",
   "metadata": {},
   "outputs": [
    {
     "ename": "NameError",
     "evalue": "name 'os' is not defined",
     "output_type": "error",
     "traceback": [
      "\u001b[0;31m---------------------------------------------------------------------------\u001b[0m",
      "\u001b[0;31mNameError\u001b[0m                                 Traceback (most recent call last)",
      "Cell \u001b[0;32mIn[4], line 4\u001b[0m\n\u001b[1;32m      1\u001b[0m max_height \u001b[38;5;241m=\u001b[39m \u001b[38;5;241m300\u001b[39m\n\u001b[1;32m      2\u001b[0m max_width \u001b[38;5;241m=\u001b[39m \u001b[38;5;241m300\u001b[39m\n\u001b[0;32m----> 4\u001b[0m \u001b[38;5;28;01mfor\u001b[39;00m directory_name \u001b[38;5;129;01min\u001b[39;00m \u001b[43mos\u001b[49m\u001b[38;5;241m.\u001b[39mlistdir(\u001b[38;5;124m'\u001b[39m\u001b[38;5;124m./samples\u001b[39m\u001b[38;5;124m'\u001b[39m):\n\u001b[1;32m      5\u001b[0m     directory_ID \u001b[38;5;241m=\u001b[39m directory_name[\u001b[38;5;241m8\u001b[39m:]\n\u001b[1;32m      6\u001b[0m     \u001b[38;5;28;01mfor\u001b[39;00m sample_file_name \u001b[38;5;129;01min\u001b[39;00m os\u001b[38;5;241m.\u001b[39mlistdir(\u001b[38;5;124mf\u001b[39m\u001b[38;5;124m'\u001b[39m\u001b[38;5;124m./samples/\u001b[39m\u001b[38;5;132;01m{\u001b[39;00mdirectory_name\u001b[38;5;132;01m}\u001b[39;00m\u001b[38;5;124m'\u001b[39m):\n",
      "\u001b[0;31mNameError\u001b[0m: name 'os' is not defined"
     ]
    }
   ],
   "source": [
    "max_height = 300\n",
    "max_width = 300\n",
    "\n",
    "for directory_name in os.listdir('./samples'):\n",
    "    directory_ID = directory_name[8:]\n",
    "    for sample_file_name in os.listdir(f'./samples/{directory_name}'):\n",
    "        frame_id = int(sample_file_name.split('.')[0][5:])\n",
    "        print('------------------------------------------------------------------')\n",
    "        print(f'Processing file {directory_name}/{sample_file_name}')\n",
    "\n",
    "        sample_path = f'./samples/{directory_name}/{sample_file_name}'\n",
    "        sample_img = cv2.imread(sample_path)\n",
    "\n",
    "        prediction_results = detector.predict(sample_img)\n",
    "\n",
    "        for result in prediction_results:\n",
    "            xyxy = None\n",
    "            crop_img = None\n",
    "\n",
    "            boxes = result.boxes.cpu().numpy()\n",
    "            if len(boxes) > 0:\n",
    "                xyxy = list(map(int, boxes.xyxy[0]))\n",
    "\n",
    "                crop_img = sample_img[xyxy[1]: xyxy[3], xyxy[0]: xyxy[2]]\n",
    "\n",
    "                cropped_img_shape = crop_img.shape\n",
    "\n",
    "                height_margin = max_height - cropped_img_shape[0]\n",
    "                width_margin = max_width - cropped_img_shape[1]\n",
    "\n",
    "                if xyxy[2] + width_margin > sample_img.shape[1]:\n",
    "                    x1, x2 = xyxy[0] - width_margin, xyxy[2]\n",
    "                else:\n",
    "                    x1, x2 = xyxy[0], xyxy[2] + width_margin\n",
    "\n",
    "                if xyxy[3] + height_margin > sample_img.shape[0]:\n",
    "                    y1, y2 = xyxy[1] - height_margin, xyxy[3]\n",
    "                else:\n",
    "                    y1, y2 = xyxy[1], xyxy[3] + height_margin\n",
    "\n",
    "                margined_crop_img = sample_img[y1: y2, x1: x2]\n",
    "\n",
    "                if margined_crop_img is not None:\n",
    "                    if not os.path.exists(f'./cropped_bugs/{directory_name}'):\n",
    "                        os.mkdir(f'./cropped_bugs/{directory_name}')\n",
    "\n",
    "                    cv2.imwrite(f'./cropped_bugs/{directory_name}/{sample_file_name}', margined_crop_img)\n",
    "\n",
    "                    with open(f'../Annotations/training{directory_ID}.traco') as file:\n",
    "                        sample_ann = json.load(file)\n",
    "\n",
    "                    x, y = int(sample_ann['rois'][frame_id]['pos'][0]), int(sample_ann['rois'][frame_id]['pos'][1])\n",
    "\n",
    "                    new_x, new_y = x - x1, y - y1\n",
    "\n",
    "                    new_row = pd.DataFrame(\n",
    "                        {'CroppedHexBugCoordinationX': new_x,\n",
    "                         'CroppedHexBugCoordinationY': new_y,\n",
    "                         'OriginalBoxCoordinationX1': x1,\n",
    "                         'OriginalBoxCoordinationX2': x2,\n",
    "                         'OriginalBoxCoordinationY1': y1,\n",
    "                         'OriginalBoxCoordinationY2': y2,\n",
    "\n",
    "                         'Path': f'cropped_bugs/{directory_name}/{sample_file_name}',\n",
    "                         'ID': frame_id},\n",
    "                        index=[0])\n",
    "\n",
    "                    data = pd.concat([new_row, data.iloc[:]]).reset_index(drop=True)\n"
   ]
  },
  {
   "cell_type": "code",
   "execution_count": null,
   "id": "8f134968",
   "metadata": {},
   "outputs": [],
   "source": [
    "# print(data)\n",
    "data.to_csv('data.csv')"
   ]
  }
 ],
 "metadata": {
  "kernelspec": {
   "display_name": "Python 3 (ipykernel)",
   "language": "python",
   "name": "python3"
  },
  "language_info": {
   "codemirror_mode": {
    "name": "ipython",
    "version": 3
   },
   "file_extension": ".py",
   "mimetype": "text/x-python",
   "name": "python",
   "nbconvert_exporter": "python",
   "pygments_lexer": "ipython3",
   "version": "3.9.16"
  }
 },
 "nbformat": 4,
 "nbformat_minor": 5
}
