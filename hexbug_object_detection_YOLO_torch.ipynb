{
 "cells": [
  {
   "cell_type": "markdown",
   "id": "543f3d9b",
   "metadata": {},
   "source": [
    "# Training Yolo v5 using custom data annotation\n",
    "\n",
    "After successful data prepration, we are trying to detect the Hexbugs using `Yolo v5`. We are doing this using the `Pytorch` library. The original data annotations that we were provided with, contained only the `(x, y)` position of the Hexbugs' heads' position. To train a `Yolo` model, we need to do extra data annotations to obtain the bouding boxes. To do so, we used [Roboflow](https://roboflow.com/). Roboflow is an awesome platform for data annotation which allows teams to work on uploaded data in groups. After annotating the frames, we exported the dataset as a `Yolo v5 dataset`. Please mention that the original libraries are implemented in `Pytorch`. Therefore, make sure that you have access to proper GPUs to run the code."
   ]
  },
  {
   "cell_type": "markdown",
   "id": "7065a068",
   "metadata": {},
   "source": [
    "### Check Nvidia driver"
   ]
  },
  {
   "cell_type": "code",
   "execution_count": null,
   "id": "6dfb6784",
   "metadata": {},
   "outputs": [],
   "source": [
    "!nvidia-smi"
   ]
  },
  {
   "cell_type": "markdown",
   "id": "9f9e09c6",
   "metadata": {},
   "source": [
    "### Required imports\n",
    "\n",
    "* `os` is required to manage directories.\n",
    "* `ultralytics` is essential to load `Yolo`\n",
    "* `roboflow` is required to download the dataset from the server."
   ]
  },
  {
   "cell_type": "code",
   "execution_count": null,
   "id": "78b28438",
   "metadata": {},
   "outputs": [],
   "source": [
    "# Pip install method (recommended)\n",
    "!pip install ultralytics==8.0.20\n",
    "!pip install roboflow --quiet\n",
    "\n",
    "import os\n",
    "import glob\n",
    "\n",
    "from credentials import YOUR_API_KEY\n",
    "from IPython import display\n",
    "from IPython.display import display, Image\n",
    "import ultralytics\n",
    "from ultralytics import YOLO\n",
    "from roboflow import Roboflow\n",
    "\n",
    "ultralytics.checks()"
   ]
  },
  {
   "cell_type": "code",
   "execution_count": null,
   "id": "9684c49a",
   "metadata": {},
   "outputs": [],
   "source": [
    "# Setting Home variable to work easier with the file paths later.\n",
    "HOME = os.getcwd()\n",
    "print(HOME)"
   ]
  },
  {
   "cell_type": "markdown",
   "id": "7c049175",
   "metadata": {},
   "source": [
    "### Resetting environment"
   ]
  },
  {
   "cell_type": "code",
   "execution_count": null,
   "id": "465e96a7",
   "metadata": {},
   "outputs": [],
   "source": [
    "# Removing already existing `datasets` directory\n",
    "!mkdir {HOME}/datasets\n",
    "%cd {HOME}/datasets"
   ]
  },
  {
   "cell_type": "markdown",
   "id": "764f8430",
   "metadata": {},
   "source": [
    "### Downloading dataset from `Roboflow`"
   ]
  },
  {
   "cell_type": "code",
   "execution_count": null,
   "id": "2d74b9ea",
   "metadata": {},
   "outputs": [],
   "source": [
    "# Using `Roboflow` library to access and downloading the dataset.\n",
    "\n",
    "rf = Roboflow(api_key=YOUR_API_KEY)\n",
    "project = rf.workspace(\"hexbugs\").project(\"bugbusters\")\n",
    "dataset = project.version(4).download(\"yolov5\")"
   ]
  },
  {
   "cell_type": "code",
   "execution_count": null,
   "id": "66d429c3",
   "metadata": {},
   "outputs": [],
   "source": [
    "%cd {HOME}\n",
    "# using the already implemented `yolo` package to perform a training task.\n",
    "# It'll download the `Yolov8s.pt` mdoel for reference and use its already trained weights for transfer learning.\n",
    "!yolo task=detect mode=train model=yolov8s.pt data={dataset.location}/data.yaml epochs=35 imgsz=800 plots=True"
   ]
  },
  {
   "cell_type": "code",
   "execution_count": null,
   "id": "73f4ff19",
   "metadata": {},
   "outputs": [],
   "source": [
    "!ls {HOME}/runs/detect/train/"
   ]
  },
  {
   "cell_type": "markdown",
   "id": "b93453ad",
   "metadata": {},
   "source": [
    "### Results Visualization\n",
    "Most of the times, it's a great idea to create a confusion matrix to understand the performance of the model. Here, we plot the confusion matrix, but it only has one class, `HexBug`."
   ]
  },
  {
   "cell_type": "code",
   "execution_count": null,
   "id": "1dbfed67",
   "metadata": {},
   "outputs": [],
   "source": [
    "%cd {HOME}\n",
    "Image(filename=f'{HOME}/runs/detect/train/confusion_matrix.png', width=600)"
   ]
  },
  {
   "cell_type": "markdown",
   "id": "98d73e0c",
   "metadata": {},
   "source": [
    "### Plotting metrics\n",
    "We plot `loss`, `recall`, and `mAP` as metrics to analyze the model performance better."
   ]
  },
  {
   "cell_type": "code",
   "execution_count": null,
   "id": "ef56af53",
   "metadata": {},
   "outputs": [],
   "source": [
    "%cd {HOME}\n",
    "Image(filename=f'{HOME}/runs/detect/train/results.png', width=600)"
   ]
  },
  {
   "cell_type": "markdown",
   "id": "f4405bf1",
   "metadata": {},
   "source": [
    "### Plotting results over validation set"
   ]
  },
  {
   "cell_type": "code",
   "execution_count": null,
   "id": "beb8c5c2",
   "metadata": {},
   "outputs": [],
   "source": [
    "%cd {HOME}\n",
    "Image(filename=f'{HOME}/runs/detect/train/val_batch0_pred.jpg', width=600)"
   ]
  },
  {
   "cell_type": "markdown",
   "id": "147fdaa9",
   "metadata": {},
   "source": [
    "### Performing validation over the validation set"
   ]
  },
  {
   "cell_type": "code",
   "execution_count": null,
   "id": "62e993b1",
   "metadata": {},
   "outputs": [],
   "source": [
    "%cd {HOME}\n",
    "\n",
    "!yolo task=detect mode=val model={HOME}/runs/detect/train/weights/best.pt data={dataset.location}/data.yaml"
   ]
  },
  {
   "cell_type": "markdown",
   "id": "fd96caef",
   "metadata": {},
   "source": [
    "### Performing detection over test set"
   ]
  },
  {
   "cell_type": "code",
   "execution_count": null,
   "id": "bc4161f3",
   "metadata": {},
   "outputs": [],
   "source": [
    "%cd {HOME}\n",
    "!yolo task=detect mode=predict model={HOME}/runs/detect/train/weights/best.pt conf=0.25 source={dataset.location}/test/images save=True"
   ]
  },
  {
   "cell_type": "markdown",
   "id": "5ea6b893",
   "metadata": {},
   "source": [
    "### Plotting the detection result over unseen dataset"
   ]
  },
  {
   "cell_type": "code",
   "execution_count": null,
   "id": "afae3ac6",
   "metadata": {},
   "outputs": [],
   "source": [
    "for image_path in glob.glob(f'{HOME}/runs/detect/predict/*.jpg')[:3]:\n",
    "      display(Image(filename=image_path, width=600))\n",
    "      print(\"\\n\")"
   ]
  },
  {
   "cell_type": "markdown",
   "id": "8deefcdb",
   "metadata": {},
   "source": [
    "### Result\n",
    "\n",
    "Now we have a fully trained `Yolo` model that performs quite good in detecting Hexbugs.\n",
    "Now it's time to use this model to detect Hexbugs in the frames and get rid of void areas.\n",
    "The best model is now located at `runs/detect/train/weights/best.pt`."
   ]
  }
 ],
 "metadata": {
  "kernelspec": {
   "display_name": "Python 3 (ipykernel)",
   "language": "python",
   "name": "python3"
  },
  "language_info": {
   "codemirror_mode": {
    "name": "ipython",
    "version": 3
   },
   "file_extension": ".py",
   "mimetype": "text/x-python",
   "name": "python",
   "nbconvert_exporter": "python",
   "pygments_lexer": "ipython3",
   "version": "3.9.16"
  }
 },
 "nbformat": 4,
 "nbformat_minor": 5
}
