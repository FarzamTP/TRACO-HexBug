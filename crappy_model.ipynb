{
 "cells": [
  {
   "cell_type": "code",
   "execution_count": 1,
   "id": "06c2ef05",
   "metadata": {},
   "outputs": [
    {
     "name": "stderr",
     "output_type": "stream",
     "text": [
      "2023-04-21 08:50:54.447279: I tensorflow/core/util/port.cc:110] oneDNN custom operations are on. You may see slightly different numerical results due to floating-point round-off errors from different computation orders. To turn them off, set the environment variable `TF_ENABLE_ONEDNN_OPTS=0`.\n",
      "2023-04-21 08:50:54.552882: I tensorflow/core/platform/cpu_feature_guard.cc:182] This TensorFlow binary is optimized to use available CPU instructions in performance-critical operations.\n",
      "To enable the following instructions: AVX2 AVX_VNNI FMA, in other operations, rebuild TensorFlow with the appropriate compiler flags.\n",
      "2023-04-21 08:50:55.142118: W tensorflow/compiler/tf2tensorrt/utils/py_utils.cc:38] TF-TRT Warning: Could not find TensorRT\n"
     ]
    }
   ],
   "source": [
    "import tensorflow as tf\n",
    "from tensorflow.keras import layers\n",
    "from tensorflow.keras.models import Sequential\n",
    "from tensorflow.keras.layers import Conv2D, MaxPooling2D, Flatten, Dense, LSTM, Conv3D, MaxPooling3D\n",
    "import json\n",
    "from tensorflow.keras.utils import load_img, img_to_array, array_to_img\n",
    "import numpy as np\n",
    "import matplotlib.pyplot as plt\n",
    "from sklearn.model_selection import train_test_split\n",
    "import cv2"
   ]
  },
  {
   "cell_type": "code",
   "execution_count": 2,
   "id": "4edeb70f",
   "metadata": {},
   "outputs": [
    {
     "data": {
      "text/plain": [
       "(100, 2)"
      ]
     },
     "execution_count": 2,
     "metadata": {},
     "output_type": "execute_result"
    }
   ],
   "source": [
    "with open('./Annotations/training01.traco') as file:\n",
    "    sample_ann = json.load(file)\n",
    "    \n",
    "\n",
    "y = []\n",
    "\n",
    "for i in range(100):    \n",
    "    y.append(sample_ann['rois'][i]['pos'])\n",
    "\n",
    "y = np.array(y)\n",
    "y.shape"
   ]
  },
  {
   "cell_type": "code",
   "execution_count": 3,
   "id": "ee216e7b",
   "metadata": {},
   "outputs": [
    {
     "data": {
      "text/plain": [
       "(100, 384, 512, 1)"
      ]
     },
     "execution_count": 3,
     "metadata": {},
     "output_type": "execute_result"
    }
   ],
   "source": [
    "# Load the images\n",
    "images = []\n",
    "for i in range(100):\n",
    "    img_path = f'./Videos/training01/frame{i}.jpg'\n",
    "    img = load_img(img_path, color_mode = \"grayscale\", target_size=(int(768 / 2), int(1024 / 2)))\n",
    "    img = img_to_array(img)\n",
    "    images.append(img)\n",
    "X = np.array(images)\n",
    "X.shape"
   ]
  },
  {
   "cell_type": "code",
   "execution_count": 4,
   "id": "309a26bd",
   "metadata": {},
   "outputs": [],
   "source": [
    "X_train, X_test, y_train, y_test = train_test_split(X, y, test_size=0.2, shuffle=True)"
   ]
  },
  {
   "cell_type": "code",
   "execution_count": 5,
   "id": "402c9929",
   "metadata": {},
   "outputs": [
    {
     "name": "stdout",
     "output_type": "stream",
     "text": [
      "X train shape: (80, 384, 512, 1)\n",
      "X test shape: (20, 384, 512, 1)\n",
      "y train shape: (80, 2)\n",
      "y test shape: (20, 2)\n"
     ]
    }
   ],
   "source": [
    "print(f'X train shape: {X_train.shape}')\n",
    "print(f'X test shape: {X_test.shape}')\n",
    "print(f'y train shape: {y_train.shape}')\n",
    "print(f'y test shape: {y_test.shape}')"
   ]
  },
  {
   "cell_type": "code",
   "execution_count": 6,
   "id": "3b99d7ce",
   "metadata": {},
   "outputs": [],
   "source": [
    "# plt.imshow(X_train[0])"
   ]
  },
  {
   "cell_type": "code",
   "execution_count": 7,
   "id": "9270dca3",
   "metadata": {},
   "outputs": [
    {
     "name": "stderr",
     "output_type": "stream",
     "text": [
      "2023-04-21 08:51:01.101127: I tensorflow/compiler/xla/stream_executor/cuda/cuda_gpu_executor.cc:996] successful NUMA node read from SysFS had negative value (-1), but there must be at least one NUMA node, so returning NUMA node zero. See more at https://github.com/torvalds/linux/blob/v6.0/Documentation/ABI/testing/sysfs-bus-pci#L344-L355\n",
      "2023-04-21 08:51:01.164795: I tensorflow/compiler/xla/stream_executor/cuda/cuda_gpu_executor.cc:996] successful NUMA node read from SysFS had negative value (-1), but there must be at least one NUMA node, so returning NUMA node zero. See more at https://github.com/torvalds/linux/blob/v6.0/Documentation/ABI/testing/sysfs-bus-pci#L344-L355\n",
      "2023-04-21 08:51:01.164936: I tensorflow/compiler/xla/stream_executor/cuda/cuda_gpu_executor.cc:996] successful NUMA node read from SysFS had negative value (-1), but there must be at least one NUMA node, so returning NUMA node zero. See more at https://github.com/torvalds/linux/blob/v6.0/Documentation/ABI/testing/sysfs-bus-pci#L344-L355\n",
      "2023-04-21 08:51:01.166398: I tensorflow/compiler/xla/stream_executor/cuda/cuda_gpu_executor.cc:996] successful NUMA node read from SysFS had negative value (-1), but there must be at least one NUMA node, so returning NUMA node zero. See more at https://github.com/torvalds/linux/blob/v6.0/Documentation/ABI/testing/sysfs-bus-pci#L344-L355\n",
      "2023-04-21 08:51:01.166534: I tensorflow/compiler/xla/stream_executor/cuda/cuda_gpu_executor.cc:996] successful NUMA node read from SysFS had negative value (-1), but there must be at least one NUMA node, so returning NUMA node zero. See more at https://github.com/torvalds/linux/blob/v6.0/Documentation/ABI/testing/sysfs-bus-pci#L344-L355\n",
      "2023-04-21 08:51:01.166598: I tensorflow/compiler/xla/stream_executor/cuda/cuda_gpu_executor.cc:996] successful NUMA node read from SysFS had negative value (-1), but there must be at least one NUMA node, so returning NUMA node zero. See more at https://github.com/torvalds/linux/blob/v6.0/Documentation/ABI/testing/sysfs-bus-pci#L344-L355\n",
      "2023-04-21 08:51:01.646529: I tensorflow/compiler/xla/stream_executor/cuda/cuda_gpu_executor.cc:996] successful NUMA node read from SysFS had negative value (-1), but there must be at least one NUMA node, so returning NUMA node zero. See more at https://github.com/torvalds/linux/blob/v6.0/Documentation/ABI/testing/sysfs-bus-pci#L344-L355\n",
      "2023-04-21 08:51:01.646678: I tensorflow/compiler/xla/stream_executor/cuda/cuda_gpu_executor.cc:996] successful NUMA node read from SysFS had negative value (-1), but there must be at least one NUMA node, so returning NUMA node zero. See more at https://github.com/torvalds/linux/blob/v6.0/Documentation/ABI/testing/sysfs-bus-pci#L344-L355\n",
      "2023-04-21 08:51:01.646748: I tensorflow/compiler/xla/stream_executor/cuda/cuda_gpu_executor.cc:996] successful NUMA node read from SysFS had negative value (-1), but there must be at least one NUMA node, so returning NUMA node zero. See more at https://github.com/torvalds/linux/blob/v6.0/Documentation/ABI/testing/sysfs-bus-pci#L344-L355\n",
      "2023-04-21 08:51:01.646810: I tensorflow/core/common_runtime/gpu/gpu_device.cc:1635] Created device /job:localhost/replica:0/task:0/device:GPU:0 with 4081 MB memory:  -> device: 0, name: NVIDIA GeForce RTX 3060 Laptop GPU, pci bus id: 0000:01:00.0, compute capability: 8.6\n"
     ]
    }
   ],
   "source": [
    "\n",
    "model = Sequential()\n",
    "model.add(Conv2D(32, (3, 3), activation='relu', input_shape=X_train[0].shape))\n",
    "model.add(MaxPooling2D((2, 2)))\n",
    "model.add(Conv2D(64, (3, 3), activation='relu'))\n",
    "model.add(MaxPooling2D((2, 2)))\n",
    "model.add(Conv2D(128, (3, 3), activation='relu'))\n",
    "model.add(MaxPooling2D((2, 2)))\n",
    "model.add(Conv2D(256, (3, 3), activation='relu'))\n",
    "model.add(MaxPooling2D((2, 2)))\n",
    "model.add(Flatten())\n",
    "model.add(Dense(128, activation='relu'))\n",
    "model.add(Dense(2))"
   ]
  },
  {
   "cell_type": "code",
   "execution_count": null,
   "id": "b4d78cd1",
   "metadata": {},
   "outputs": [],
   "source": []
  },
  {
   "cell_type": "code",
   "execution_count": 8,
   "id": "20237cb3",
   "metadata": {},
   "outputs": [],
   "source": [
    "# Compile the model\n",
    "model.compile(loss='mse', optimizer='adam')"
   ]
  },
  {
   "cell_type": "code",
   "execution_count": 9,
   "id": "f1a8ef95",
   "metadata": {},
   "outputs": [
    {
     "name": "stdout",
     "output_type": "stream",
     "text": [
      "Model: \"sequential\"\n",
      "_________________________________________________________________\n",
      " Layer (type)                Output Shape              Param #   \n",
      "=================================================================\n",
      " conv2d (Conv2D)             (None, 382, 510, 32)      320       \n",
      "                                                                 \n",
      " max_pooling2d (MaxPooling2D  (None, 191, 255, 32)     0         \n",
      " )                                                               \n",
      "                                                                 \n",
      " conv2d_1 (Conv2D)           (None, 189, 253, 64)      18496     \n",
      "                                                                 \n",
      " max_pooling2d_1 (MaxPooling  (None, 94, 126, 64)      0         \n",
      " 2D)                                                             \n",
      "                                                                 \n",
      " conv2d_2 (Conv2D)           (None, 92, 124, 128)      73856     \n",
      "                                                                 \n",
      " max_pooling2d_2 (MaxPooling  (None, 46, 62, 128)      0         \n",
      " 2D)                                                             \n",
      "                                                                 \n",
      " conv2d_3 (Conv2D)           (None, 44, 60, 256)       295168    \n",
      "                                                                 \n",
      " max_pooling2d_3 (MaxPooling  (None, 22, 30, 256)      0         \n",
      " 2D)                                                             \n",
      "                                                                 \n",
      " flatten (Flatten)           (None, 168960)            0         \n",
      "                                                                 \n",
      " dense (Dense)               (None, 128)               21627008  \n",
      "                                                                 \n",
      " dense_1 (Dense)             (None, 2)                 258       \n",
      "                                                                 \n",
      "=================================================================\n",
      "Total params: 22,015,106\n",
      "Trainable params: 22,015,106\n",
      "Non-trainable params: 0\n",
      "_________________________________________________________________\n"
     ]
    }
   ],
   "source": [
    "model.summary()"
   ]
  },
  {
   "cell_type": "code",
   "execution_count": 10,
   "id": "a392d298",
   "metadata": {},
   "outputs": [
    {
     "name": "stdout",
     "output_type": "stream",
     "text": [
      "Epoch 1/50\n"
     ]
    },
    {
     "name": "stderr",
     "output_type": "stream",
     "text": [
      "2023-04-21 08:51:13.235618: I tensorflow/compiler/xla/stream_executor/cuda/cuda_dnn.cc:424] Loaded cuDNN version 8600\n",
      "2023-04-21 08:51:14.634535: I tensorflow/compiler/xla/stream_executor/cuda/cuda_blas.cc:637] TensorFloat-32 will be used for the matrix multiplication. This will only be logged once.\n",
      "2023-04-21 08:51:14.646745: I tensorflow/compiler/xla/service/service.cc:169] XLA service 0x269ed910 initialized for platform CUDA (this does not guarantee that XLA will be used). Devices:\n",
      "2023-04-21 08:51:14.646755: I tensorflow/compiler/xla/service/service.cc:177]   StreamExecutor device (0): NVIDIA GeForce RTX 3060 Laptop GPU, Compute Capability 8.6\n",
      "2023-04-21 08:51:14.659808: I tensorflow/compiler/mlir/tensorflow/utils/dump_mlir_util.cc:269] disabling MLIR crash reproducer, set env var `MLIR_CRASH_REPRODUCER_DIRECTORY` to enable.\n",
      "2023-04-21 08:51:14.796933: I ./tensorflow/compiler/jit/device_compiler.h:180] Compiled cluster using XLA!  This line is logged at most once for the lifetime of the process.\n",
      "2023-04-21 08:51:20.008035: W tensorflow/tsl/framework/bfc_allocator.cc:296] Allocator (GPU_0_bfc) ran out of memory trying to allocate 1.89GiB with freed_by_count=0. The caller indicates that this is not a failure, but this may mean that there could be performance gains if more memory were available.\n"
     ]
    },
    {
     "name": "stdout",
     "output_type": "stream",
     "text": [
      "\r",
      "1/3 [=========>....................] - ETA: 18s - loss: 299236.3750"
     ]
    },
    {
     "name": "stderr",
     "output_type": "stream",
     "text": [
      "2023-04-21 08:51:21.199181: W tensorflow/tsl/framework/bfc_allocator.cc:296] Allocator (GPU_0_bfc) ran out of memory trying to allocate 1.76GiB with freed_by_count=0. The caller indicates that this is not a failure, but this may mean that there could be performance gains if more memory were available.\n"
     ]
    },
    {
     "name": "stdout",
     "output_type": "stream",
     "text": [
      "3/3 [==============================] - 14s 2s/step - loss: 191632.6719 - val_loss: 54285.7734\n",
      "Epoch 2/50\n",
      "3/3 [==============================] - 1s 167ms/step - loss: 85210.8281 - val_loss: 85656.4141\n",
      "Epoch 3/50\n",
      "3/3 [==============================] - 0s 149ms/step - loss: 88329.7656 - val_loss: 53113.4492\n",
      "Epoch 4/50\n",
      "3/3 [==============================] - 0s 155ms/step - loss: 70868.6094 - val_loss: 40336.6875\n",
      "Epoch 5/50\n",
      "3/3 [==============================] - 0s 150ms/step - loss: 57123.3672 - val_loss: 68549.4141\n",
      "Epoch 6/50\n",
      "3/3 [==============================] - 0s 152ms/step - loss: 56875.0742 - val_loss: 52276.3359\n",
      "Epoch 7/50\n",
      "3/3 [==============================] - 0s 149ms/step - loss: 57859.5508 - val_loss: 46045.8320\n",
      "Epoch 8/50\n",
      "3/3 [==============================] - 0s 151ms/step - loss: 53528.6250 - val_loss: 43349.1289\n",
      "Epoch 9/50\n",
      "3/3 [==============================] - 0s 149ms/step - loss: 54153.5820 - val_loss: 41811.4922\n",
      "Epoch 10/50\n",
      "3/3 [==============================] - 0s 149ms/step - loss: 52471.9297 - val_loss: 49178.6172\n",
      "Epoch 11/50\n",
      "3/3 [==============================] - 0s 153ms/step - loss: 53053.8438 - val_loss: 50214.4141\n",
      "Epoch 12/50\n",
      "3/3 [==============================] - 0s 149ms/step - loss: 53260.5859 - val_loss: 44518.0664\n",
      "Epoch 13/50\n",
      "3/3 [==============================] - 0s 150ms/step - loss: 54570.5312 - val_loss: 42908.1055\n",
      "Epoch 14/50\n",
      "3/3 [==============================] - 0s 148ms/step - loss: 52772.4570 - val_loss: 43186.1875\n",
      "Epoch 15/50\n",
      "3/3 [==============================] - 0s 151ms/step - loss: 52682.3242 - val_loss: 45025.9141\n",
      "Epoch 16/50\n",
      "3/3 [==============================] - 0s 152ms/step - loss: 52361.9023 - val_loss: 48156.1953\n",
      "Epoch 17/50\n",
      "3/3 [==============================] - 0s 149ms/step - loss: 52408.2344 - val_loss: 46269.9375\n",
      "Epoch 18/50\n",
      "3/3 [==============================] - 0s 153ms/step - loss: 52526.8867 - val_loss: 49447.3828\n",
      "Epoch 19/50\n",
      "3/3 [==============================] - 0s 151ms/step - loss: 52221.3711 - val_loss: 43813.8789\n",
      "Epoch 20/50\n",
      "3/3 [==============================] - 0s 151ms/step - loss: 54176.9375 - val_loss: 41456.1094\n",
      "Epoch 21/50\n",
      "3/3 [==============================] - 0s 152ms/step - loss: 49634.1797 - val_loss: 37582.9297\n",
      "Epoch 22/50\n",
      "3/3 [==============================] - 0s 149ms/step - loss: 39714.9375 - val_loss: 33257.2031\n",
      "Epoch 23/50\n",
      "3/3 [==============================] - 0s 150ms/step - loss: 37051.6797 - val_loss: 86241.7656\n",
      "Epoch 24/50\n",
      "3/3 [==============================] - 0s 149ms/step - loss: 90599.1250 - val_loss: 85546.7891\n",
      "Epoch 25/50\n",
      "3/3 [==============================] - 0s 148ms/step - loss: 59378.5742 - val_loss: 42837.1719\n",
      "Epoch 26/50\n",
      "3/3 [==============================] - 0s 151ms/step - loss: 50671.0508 - val_loss: 64424.5508\n",
      "Epoch 27/50\n",
      "3/3 [==============================] - 0s 150ms/step - loss: 36865.6133 - val_loss: 26347.1133\n",
      "Epoch 28/50\n",
      "3/3 [==============================] - 0s 152ms/step - loss: 23017.3066 - val_loss: 38071.9922\n",
      "Epoch 29/50\n",
      "3/3 [==============================] - 0s 149ms/step - loss: 20453.7461 - val_loss: 34674.2266\n",
      "Epoch 30/50\n",
      "3/3 [==============================] - 0s 150ms/step - loss: 16888.8750 - val_loss: 22349.4414\n",
      "Epoch 31/50\n",
      "3/3 [==============================] - 0s 149ms/step - loss: 12320.8691 - val_loss: 23179.8984\n",
      "Epoch 32/50\n",
      "3/3 [==============================] - 0s 149ms/step - loss: 10886.4199 - val_loss: 20842.5195\n",
      "Epoch 33/50\n",
      "3/3 [==============================] - 0s 150ms/step - loss: 10970.6221 - val_loss: 17170.1055\n",
      "Epoch 34/50\n",
      "3/3 [==============================] - 0s 148ms/step - loss: 9393.8887 - val_loss: 18623.9316\n",
      "Epoch 35/50\n",
      "3/3 [==============================] - 0s 148ms/step - loss: 7718.8101 - val_loss: 13994.7676\n",
      "Epoch 36/50\n",
      "3/3 [==============================] - 0s 148ms/step - loss: 5673.8374 - val_loss: 11035.5420\n",
      "Epoch 37/50\n",
      "3/3 [==============================] - 0s 148ms/step - loss: 5229.3306 - val_loss: 11162.2295\n",
      "Epoch 38/50\n",
      "3/3 [==============================] - 0s 148ms/step - loss: 4067.4263 - val_loss: 11035.8545\n",
      "Epoch 39/50\n",
      "3/3 [==============================] - 0s 147ms/step - loss: 3486.1958 - val_loss: 8753.5176\n",
      "Epoch 40/50\n",
      "3/3 [==============================] - 0s 148ms/step - loss: 2840.4602 - val_loss: 8122.5547\n",
      "Epoch 41/50\n",
      "3/3 [==============================] - 0s 149ms/step - loss: 2427.1616 - val_loss: 8260.1260\n",
      "Epoch 42/50\n",
      "3/3 [==============================] - 0s 151ms/step - loss: 2139.6055 - val_loss: 7116.7354\n",
      "Epoch 43/50\n",
      "3/3 [==============================] - 0s 151ms/step - loss: 1781.7327 - val_loss: 9118.6855\n",
      "Epoch 44/50\n",
      "3/3 [==============================] - 1s 186ms/step - loss: 2050.6487 - val_loss: 6705.4229\n",
      "Epoch 45/50\n",
      "3/3 [==============================] - 1s 147ms/step - loss: 1888.0828 - val_loss: 7778.5532\n",
      "Epoch 46/50\n",
      "3/3 [==============================] - 1s 171ms/step - loss: 1707.4929 - val_loss: 5691.9888\n",
      "Epoch 47/50\n",
      "3/3 [==============================] - 0s 147ms/step - loss: 1495.2815 - val_loss: 5656.5835\n",
      "Epoch 48/50\n",
      "3/3 [==============================] - 0s 151ms/step - loss: 1126.5931 - val_loss: 6955.4946\n",
      "Epoch 49/50\n",
      "3/3 [==============================] - 0s 148ms/step - loss: 1170.7028 - val_loss: 5412.1763\n",
      "Epoch 50/50\n",
      "3/3 [==============================] - 0s 151ms/step - loss: 1312.5291 - val_loss: 6255.2305\n"
     ]
    }
   ],
   "source": [
    "history = model.fit(X_train, y_train, epochs=50, batch_size=32, validation_data=(X_test, y_test))"
   ]
  },
  {
   "cell_type": "code",
   "execution_count": 11,
   "id": "064e91e4",
   "metadata": {},
   "outputs": [],
   "source": [
    "sample = np.array(X_test)\n",
    "# e = np.expand_dims(sample, axis=0)"
   ]
  },
  {
   "cell_type": "code",
   "execution_count": 12,
   "id": "91ba13b7",
   "metadata": {},
   "outputs": [
    {
     "data": {
      "text/plain": [
       "(20, 384, 512, 1)"
      ]
     },
     "execution_count": 12,
     "metadata": {},
     "output_type": "execute_result"
    }
   ],
   "source": [
    "sample.shape"
   ]
  },
  {
   "cell_type": "code",
   "execution_count": 13,
   "id": "3e1b0a5c",
   "metadata": {},
   "outputs": [
    {
     "ename": "TypeError",
     "evalue": "'History' object is not subscriptable",
     "output_type": "error",
     "traceback": [
      "\u001b[0;31m---------------------------------------------------------------------------\u001b[0m",
      "\u001b[0;31mTypeError\u001b[0m                                 Traceback (most recent call last)",
      "Cell \u001b[0;32mIn[13], line 5\u001b[0m\n\u001b[1;32m      1\u001b[0m \u001b[38;5;66;03m# for idx, img in enumerate(X_test):\u001b[39;00m\n\u001b[1;32m      2\u001b[0m \u001b[38;5;66;03m#     e = np.expand_dims(img, axis=0)\u001b[39;00m\n\u001b[1;32m      3\u001b[0m \u001b[38;5;66;03m#     p = model.predict(e)\u001b[39;00m\n\u001b[1;32m      4\u001b[0m \u001b[38;5;66;03m#     print(p, y_test[idx])\u001b[39;00m\n\u001b[0;32m----> 5\u001b[0m \u001b[43mhistory\u001b[49m\u001b[43m[\u001b[49m\u001b[38;5;124;43m'\u001b[39;49m\u001b[38;5;124;43mval_loss\u001b[39;49m\u001b[38;5;124;43m'\u001b[39;49m\u001b[43m]\u001b[49m\n",
      "\u001b[0;31mTypeError\u001b[0m: 'History' object is not subscriptable"
     ]
    }
   ],
   "source": [
    "# for idx, img in enumerate(X_test):\n",
    "#     e = np.expand_dims(img, axis=0)\n",
    "#     p = model.predict(e)\n",
    "#     print(p, y_test[idx])"
   ]
  },
  {
   "cell_type": "code",
   "execution_count": 29,
   "id": "ac01b4f3",
   "metadata": {},
   "outputs": [
    {
     "name": "stdout",
     "output_type": "stream",
     "text": [
      "1/1 [==============================] - 0s 12ms/step\n",
      "[607.77325, 283.3918] [601.1357513  243.13367876]\n",
      "1/1 [==============================] - 0s 12ms/step\n",
      "[297.71198, 441.84744] [320.99481865 435.73056995]\n",
      "1/1 [==============================] - 0s 12ms/step\n",
      "[228.86958, 417.23157] [222.23930131 424.24454148]\n",
      "1/1 [==============================] - 0s 11ms/step\n",
      "[309.85986, 588.02167] [230.28820961 743.51790393]\n",
      "1/1 [==============================] - 0s 12ms/step\n",
      "[840.63416, 142.7424] [938.57823834 104.65492228]\n",
      "1/1 [==============================] - 0s 11ms/step\n",
      "[766.5532, 419.3616] [817.85851528 437.65938865]\n",
      "1/1 [==============================] - 0s 12ms/step\n",
      "[737.8692, 426.79178] [892.98165939 494.00174672]\n",
      "1/1 [==============================] - 0s 12ms/step\n",
      "[478.0122, 514.9614] [541.51266376 547.66113537]\n",
      "1/1 [==============================] - 0s 11ms/step\n",
      "[633.8379, 320.49686] [698.23005181 236.76683938]\n",
      "1/1 [==============================] - 0s 11ms/step\n",
      "[648.59015, 480.51132] [654.19737991 408.14672489]\n",
      "1/1 [==============================] - 0s 11ms/step\n",
      "[483.2458, 540.17554] [612.27772021 763.62279793]\n",
      "1/1 [==============================] - 0s 11ms/step\n",
      "[635.4337, 610.6815] [696.63834197 684.0373057 ]\n",
      "1/1 [==============================] - 0s 11ms/step\n",
      "[928.7228, 130.39876] [954.68995633 104.97117904]\n",
      "1/1 [==============================] - 0s 12ms/step\n",
      "[713.2265, -45.86545] [689.07598253  80.82445415]\n",
      "1/1 [==============================] - 0s 11ms/step\n",
      "[681.49774, 78.43469] [717.33056995   4.37720207]\n",
      "1/1 [==============================] - 0s 11ms/step\n",
      "[857.045, -70.21667] [796.91606218  33.02797927]\n",
      "1/1 [==============================] - 0s 11ms/step\n",
      "[468.18787, 584.80005] [538.82969432 585.22270742]\n",
      "1/1 [==============================] - 0s 11ms/step\n",
      "[473.1635, 741.75616] [506.63406114 714.00524017]\n",
      "1/1 [==============================] - 0s 11ms/step\n",
      "[1001.1784, 160.07605] [1011.03231441  185.46026201]\n",
      "1/1 [==============================] - 0s 11ms/step\n",
      "[946.3197, 877.6543] [723.95458515 628.15021834]\n"
     ]
    }
   ],
   "source": [
    "for idx, img in enumerate(X_test):\n",
    "    center = (int(y_test[idx][0]), int(y_test[idx][1]))\n",
    "    radius = 5\n",
    "    color = (255, 0, 0)\n",
    "    color_pred = (0, 0, 255)\n",
    "    thickness = 3\n",
    "    \n",
    "    expanded_img = np.expand_dims(img, axis=0)\n",
    "    predicted = list(model.predict(expanded_img)[0])\n",
    "    print(predicted, y_test[idx])\n",
    "#     center_pred = (int(predicted[0]), int(predicted[1]))\n",
    "    \n",
    "#     img = array_to_img(img)\n",
    "#     start_point = (int(sample_ann['rois'][i]['pos'][0]), int(sample_ann['rois'][i]['pos'][1]))\n",
    "#     end_point = (int(sample_ann['rois'][i + 1]['pos'][0]), int(sample_ann['rois'][i + 1]['pos'][1]))\n",
    "#     img = cv2.circle(img, center, radius, color, thickness)\n",
    "#     img = cv2.circle(img, center_pred, radius, color_pred, thickness)\n",
    "#     sample_img = cv2.arrowedLine(sample_img, start_point, end_point, color, thickness)\n",
    "\n",
    "#     plt.imshow(img)\n",
    "#     cv2.imshow('img', img)\n",
    "#     cv2.waitKey(0)\n",
    "#     cv2.destroyAllWindows()"
   ]
  },
  {
   "cell_type": "code",
   "execution_count": 17,
   "id": "90a934fc",
   "metadata": {},
   "outputs": [
    {
     "data": {
      "image/png": "[encoded data removed]",
      "text/plain": [
       "<Figure size 640x480 with 1 Axes>"
      ]
     },
     "metadata": {},
     "output_type": "display_data"
    }
   ],
   "source": [
    "plt.plot(history.history['loss'])\n",
    "plt.plot(history.history['val_loss'])\n",
    "plt.title('model loss')\n",
    "plt.ylabel('loss')\n",
    "plt.xlabel('epoch')\n",
    "plt.legend(['train', 'val'], loc='best')\n",
    "plt.show()"
   ]
  },
  {
   "cell_type": "code",
   "execution_count": null,
   "id": "4161f7e4",
   "metadata": {},
   "outputs": [],
   "source": []
  }
 ],
 "metadata": {
  "kernelspec": {
   "display_name": "Python 3 (ipykernel)",
   "language": "python",
   "name": "python3"
  },
  "language_info": {
   "codemirror_mode": {
    "name": "ipython",
    "version": 3
   },
   "file_extension": ".py",
   "mimetype": "text/x-python",
   "name": "python",
   "nbconvert_exporter": "python",
   "pygments_lexer": "ipython3",
   "version": "3.9.16"
  }
 },
 "nbformat": 4,
 "nbformat_minor": 5
}
