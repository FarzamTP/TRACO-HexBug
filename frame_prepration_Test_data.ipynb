{
 "cells": [
  {
   "cell_type": "code",
   "execution_count": 1,
   "id": "15fa3dd3",
   "metadata": {},
   "outputs": [],
   "source": [
    "import cv2\n",
    "import os"
   ]
  },
  {
   "cell_type": "code",
   "execution_count": 2,
   "id": "a51db4a7",
   "metadata": {},
   "outputs": [],
   "source": [
    "video_number = '002'\n",
    "video_path = f'Test_data/Videos/test{video_number}.mp4'"
   ]
  },
  {
   "cell_type": "code",
   "execution_count": 3,
   "id": "fe3bb9c6",
   "metadata": {},
   "outputs": [
    {
     "name": "stdout",
     "output_type": "stream",
     "text": [
      "/usr/bin/zsh: /home/farzam/miniconda3/envs/tf/lib/libtinfo.so.6: no version information available (required by /usr/bin/zsh)\n",
      "Done\n"
     ]
    }
   ],
   "source": [
    "capture = cv2.VideoCapture(video_path)\n",
    "    \n",
    "# Check if capture was successful.\n",
    "success, image = capture.read()\n",
    "\n",
    "# Creating a counter to track frame_id\n",
    "count = 0\n",
    "\n",
    "!rm -rf f'Test_data/Frames/{video_number}'\n",
    "\n",
    "if not os.path.exists(f'Test_data/Frames/{video_number}'):\n",
    "    os.mkdir(f'Test_data/Frames/{video_number}')\n",
    "    \n",
    "# While video capture is successful, write the frame in the corresponding directory.\n",
    "while success:\n",
    "    cv2.imwrite(f\"Test_data/Frames/{video_number}/frame%d.jpg\" % count, image)\n",
    "    success, image = capture.read()\n",
    "    count += 1\n",
    "print('Done')"
   ]
  },
  {
   "cell_type": "code",
   "execution_count": null,
   "id": "916753ba",
   "metadata": {},
   "outputs": [],
   "source": []
  }
 ],
 "metadata": {
  "kernelspec": {
   "display_name": "Python 3 (ipykernel)",
   "language": "python",
   "name": "python3"
  },
  "language_info": {
   "codemirror_mode": {
    "name": "ipython",
    "version": 3
   },
   "file_extension": ".py",
   "mimetype": "text/x-python",
   "name": "python",
   "nbconvert_exporter": "python",
   "pygments_lexer": "ipython3",
   "version": "3.9.16"
  }
 },
 "nbformat": 4,
 "nbformat_minor": 5
}
