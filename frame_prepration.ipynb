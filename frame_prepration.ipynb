{
 "cells": [
  {
   "cell_type": "markdown",
   "id": "68653457",
   "metadata": {},
   "source": [
    "# Part I"
   ]
  },
  {
   "cell_type": "code",
   "execution_count": 24,
   "id": "d6206494",
   "metadata": {},
   "outputs": [],
   "source": [
    "import cv2\n",
    "import os\n",
    "import shutil\n",
    "from tqdm import tqdm"
   ]
  },
  {
   "cell_type": "code",
   "execution_count": 27,
   "id": "241bf947",
   "metadata": {},
   "outputs": [],
   "source": [
    "if os.path.exists('Videos'):\n",
    "    shutil.rmtree('Videos')\n",
    "\n",
    "if os.path.exists('Annotations'):\n",
    "    shutil.rmtree('Annotations')\n",
    "\n",
    "os.mkdir('Videos')\n",
    "os.mkdir('Annotations')"
   ]
  },
  {
   "cell_type": "code",
   "execution_count": 28,
   "id": "6aeabde2",
   "metadata": {},
   "outputs": [
    {
     "name": "stderr",
     "output_type": "stream",
     "text": [
      "100%|█████████████████████████████████████████| 100/100 [02:49<00:00,  1.70s/it]\n"
     ]
    }
   ],
   "source": [
    "for i in tqdm(range(1, 101)):\n",
    "    directory_name = f'training0{i}'\n",
    "    video_name = f'training0{i}.mp4'\n",
    "    annotation_name = f'training0{i}.traco'\n",
    "    \n",
    "    os.mkdir(f'Videos/{directory_name}')\n",
    "    \n",
    "    shutil.copy(f'./Training data/{annotation_name}', f'./Annotations/{annotation_name}')\n",
    "    \n",
    "    capture = cv2.VideoCapture(f'./Training data/{video_name}')\n",
    "    \n",
    "    success, image = capture.read()\n",
    "\n",
    "    count = 0\n",
    "\n",
    "    while success:\n",
    "        cv2.imwrite(f\"Videos/{directory_name}/frame%d.jpg\" % count, image)\n",
    "        success, image = capture.read()\n",
    "        count += 1"
   ]
  }
 ],
 "metadata": {
  "kernelspec": {
   "display_name": "Python 3 (ipykernel)",
   "language": "python",
   "name": "python3"
  },
  "language_info": {
   "codemirror_mode": {
    "name": "ipython",
    "version": 3
   },
   "file_extension": ".py",
   "mimetype": "text/x-python",
   "name": "python",
   "nbconvert_exporter": "python",
   "pygments_lexer": "ipython3",
   "version": "3.9.16"
  }
 },
 "nbformat": 4,
 "nbformat_minor": 5
}
