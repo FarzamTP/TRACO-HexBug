{
 "cells": [
  {
   "cell_type": "markdown",
   "id": "95382421",
   "metadata": {},
   "source": [
    "# Preprocessing Goal\n",
    "This file is created to perform data pre-processing. Which includes the following steps:\n",
    "    1. Creating required directories.\n",
    "    2. Capturing `mp4` files and separating them into `img` frames.\n",
    "    3. Saving each frame in the corresponding directory."
   ]
  },
  {
   "cell_type": "markdown",
   "id": "6fa5b652",
   "metadata": {},
   "source": [
    "### Required imports\n",
    "* `cv2` is required to capture the video.\n",
    "* `os` is essential for managing directories.\n",
    "* `shutil` is required for copying files, especially when they contain multiple objects.\n",
    "* `tqdm` is just a gorgeous loading bar."
   ]
  },
  {
   "cell_type": "code",
   "execution_count": 1,
   "id": "d6206494",
   "metadata": {},
   "outputs": [],
   "source": [
    "import cv2\n",
    "import os\n",
    "import shutil\n",
    "from tqdm import tqdm"
   ]
  },
  {
   "cell_type": "markdown",
   "id": "38be4788",
   "metadata": {},
   "source": [
    "### Resetting the environment"
   ]
  },
  {
   "cell_type": "code",
   "execution_count": 7,
   "id": "241bf947",
   "metadata": {},
   "outputs": [],
   "source": [
    "# Resetting the working environment by deleting already existing files.\n",
    "# Please be careful if you have directories with same name in the same path.\n",
    "if os.path.exists('Videos'):\n",
    "    shutil.rmtree('Videos')\n",
    "\n",
    "if os.path.exists('Annotations'):\n",
    "    shutil.rmtree('Annotations')\n",
    "\n",
    "os.mkdir('Videos')\n",
    "os.mkdir('Annotations')"
   ]
  },
  {
   "cell_type": "markdown",
   "id": "e7510a03",
   "metadata": {},
   "source": [
    "### Capturing the frames"
   ]
  },
  {
   "cell_type": "code",
   "execution_count": 8,
   "id": "6aeabde2",
   "metadata": {},
   "outputs": [
    {
     "name": "stderr",
     "output_type": "stream",
     "text": [
      "100%|█████████████████████████████████████████| 100/100 [03:09<00:00,  1.89s/it]\n"
     ]
    }
   ],
   "source": [
    "# Iterating through frame numbers and creating variables.\n",
    "for i in tqdm(range(1, 101)):\n",
    "    directory_name = f'training0{i}'\n",
    "    video_name = f'training0{i}.mp4'\n",
    "    annotation_name = f'training0{i}.traco'\n",
    "    \n",
    "    # Creating separate directories for each video to keep the frames.\n",
    "    os.mkdir(f'Videos/{directory_name}')\n",
    "    \n",
    "    # Copying annotation[*.traco] files from the original firectory to `Annotations` directory.\n",
    "    shutil.copy(f'./Training-Data/{annotation_name}', f'./Annotations/{annotation_name}')\n",
    "    \n",
    "    # Capturing video using open-cv library.\n",
    "    capture = cv2.VideoCapture(f'./Training-Data/{video_name}')\n",
    "    \n",
    "    # Check if capture was successful.\n",
    "    success, image = capture.read()\n",
    "    \n",
    "    # Creating a counter to track frame_id\n",
    "    count = 0\n",
    "    \n",
    "    # While video capture is successful, write the frame in the corresponding directory.\n",
    "    while success:\n",
    "        cv2.imwrite(f\"Videos/{directory_name}/frame%d.jpg\" % count, image)\n",
    "        success, image = capture.read()\n",
    "        count += 1"
   ]
  },
  {
   "cell_type": "code",
   "execution_count": null,
   "id": "991fa3ac",
   "metadata": {},
   "outputs": [],
   "source": []
  }
 ],
 "metadata": {
  "kernelspec": {
   "display_name": "Python 3 (ipykernel)",
   "language": "python",
   "name": "python3"
  },
  "language_info": {
   "codemirror_mode": {
    "name": "ipython",
    "version": 3
   },
   "file_extension": ".py",
   "mimetype": "text/x-python",
   "name": "python",
   "nbconvert_exporter": "python",
   "pygments_lexer": "ipython3",
   "version": "3.9.16"
  }
 },
 "nbformat": 4,
 "nbformat_minor": 5
}
