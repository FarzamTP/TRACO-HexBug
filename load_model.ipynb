{
 "cells": [
  {
   "cell_type": "code",
   "execution_count": 2,
   "id": "058346ee",
   "metadata": {},
   "outputs": [],
   "source": [
    "import cv2\n",
    "import json\n",
    "import random\n",
    "import logging\n",
    "import numpy as np\n",
    "import pandas as pd\n",
    "import tensorflow as tf\n",
    "import matplotlib.pyplot as plt\n",
    "from sklearn.model_selection import train_test_split\n",
    "from tensorflow.keras import layers, Model\n",
    "from tensorflow.keras.models import Sequential\n",
    "from tensorflow.keras.utils import load_img\n",
    "from tensorflow.keras.applications.resnet50 import ResNet50\n",
    "from tensorflow.keras.layers import Conv2D, MaxPooling2D, Flatten, Dense, Dropout\n",
    "\n",
    "tf.get_logger().setLevel(logging.ERROR)"
   ]
  },
  {
   "cell_type": "code",
   "execution_count": 3,
   "id": "394a37b5",
   "metadata": {},
   "outputs": [
    {
     "data": {
      "text/html": [
       "<div>\n",
       "<style scoped>\n",
       "    .dataframe tbody tr th:only-of-type {\n",
       "        vertical-align: middle;\n",
       "    }\n",
       "\n",
       "    .dataframe tbody tr th {\n",
       "        vertical-align: top;\n",
       "    }\n",
       "\n",
       "    .dataframe thead th {\n",
       "        text-align: right;\n",
       "    }\n",
       "</style>\n",
       "<table border=\"1\" class=\"dataframe\">\n",
       "  <thead>\n",
       "    <tr style=\"text-align: right;\">\n",
       "      <th></th>\n",
       "      <th>CroppedHexBugCoordinationX</th>\n",
       "      <th>CroppedHexBugCoordinationY</th>\n",
       "      <th>OriginalBoxCoordinationX1</th>\n",
       "      <th>OriginalBoxCoordinationX2</th>\n",
       "      <th>OriginalBoxCoordinationY1</th>\n",
       "      <th>OriginalBoxCoordinationY2</th>\n",
       "      <th>Path</th>\n",
       "      <th>ID</th>\n",
       "    </tr>\n",
       "  </thead>\n",
       "  <tbody>\n",
       "    <tr>\n",
       "      <th>497</th>\n",
       "      <td>197</td>\n",
       "      <td>95</td>\n",
       "      <td>923</td>\n",
       "      <td>1223</td>\n",
       "      <td>91</td>\n",
       "      <td>391</td>\n",
       "      <td>cropped_bugs/training04/frame0.jpg</td>\n",
       "      <td>0</td>\n",
       "    </tr>\n",
       "    <tr>\n",
       "      <th>396</th>\n",
       "      <td>41</td>\n",
       "      <td>31</td>\n",
       "      <td>591</td>\n",
       "      <td>891</td>\n",
       "      <td>218</td>\n",
       "      <td>518</td>\n",
       "      <td>cropped_bugs/training05/frame0.jpg</td>\n",
       "      <td>0</td>\n",
       "    </tr>\n",
       "    <tr>\n",
       "      <th>201</th>\n",
       "      <td>90</td>\n",
       "      <td>154</td>\n",
       "      <td>140</td>\n",
       "      <td>440</td>\n",
       "      <td>374</td>\n",
       "      <td>674</td>\n",
       "      <td>cropped_bugs/training01/frame0.jpg</td>\n",
       "      <td>0</td>\n",
       "    </tr>\n",
       "    <tr>\n",
       "      <th>100</th>\n",
       "      <td>197</td>\n",
       "      <td>95</td>\n",
       "      <td>908</td>\n",
       "      <td>1208</td>\n",
       "      <td>581</td>\n",
       "      <td>881</td>\n",
       "      <td>cropped_bugs/training03/frame0.jpg</td>\n",
       "      <td>0</td>\n",
       "    </tr>\n",
       "    <tr>\n",
       "      <th>302</th>\n",
       "      <td>104</td>\n",
       "      <td>175</td>\n",
       "      <td>66</td>\n",
       "      <td>366</td>\n",
       "      <td>263</td>\n",
       "      <td>563</td>\n",
       "      <td>cropped_bugs/training06/frame0.jpg</td>\n",
       "      <td>0</td>\n",
       "    </tr>\n",
       "  </tbody>\n",
       "</table>\n",
       "</div>"
      ],
      "text/plain": [
       "     CroppedHexBugCoordinationX  CroppedHexBugCoordinationY  \\\n",
       "497                         197                          95   \n",
       "396                          41                          31   \n",
       "201                          90                         154   \n",
       "100                         197                          95   \n",
       "302                         104                         175   \n",
       "\n",
       "     OriginalBoxCoordinationX1  OriginalBoxCoordinationX2  \\\n",
       "497                        923                       1223   \n",
       "396                        591                        891   \n",
       "201                        140                        440   \n",
       "100                        908                       1208   \n",
       "302                         66                        366   \n",
       "\n",
       "     OriginalBoxCoordinationY1  OriginalBoxCoordinationY2  \\\n",
       "497                         91                        391   \n",
       "396                        218                        518   \n",
       "201                        374                        674   \n",
       "100                        581                        881   \n",
       "302                        263                        563   \n",
       "\n",
       "                                   Path  ID  \n",
       "497  cropped_bugs/training04/frame0.jpg   0  \n",
       "396  cropped_bugs/training05/frame0.jpg   0  \n",
       "201  cropped_bugs/training01/frame0.jpg   0  \n",
       "100  cropped_bugs/training03/frame0.jpg   0  \n",
       "302  cropped_bugs/training06/frame0.jpg   0  "
      ]
     },
     "execution_count": 3,
     "metadata": {},
     "output_type": "execute_result"
    }
   ],
   "source": [
    "data = pd.read_csv('data.csv').drop(['Unnamed: 0'], axis=1).sort_values('ID', ascending=True)\n",
    "data.head()"
   ]
  },
  {
   "cell_type": "code",
   "execution_count": 4,
   "id": "1aa01407",
   "metadata": {},
   "outputs": [],
   "source": [
    "def compute_error(y, y_pred):\n",
    "    error = np.sqrt(np.abs(y[0] - y_pred[0]) ** 2 + np.abs(y[1] - y_pred[1]) ** 2)\n",
    "    return error"
   ]
  },
  {
   "cell_type": "code",
   "execution_count": 8,
   "id": "9077d0e3",
   "metadata": {},
   "outputs": [],
   "source": [
    "def compute_original_coordination(predicted_coordination, original_box_coordination):\n",
    "    return (predicted_coordination[0] + original_box_coordination[0], predicted_coordination[1] + original_box_coordination[1])"
   ]
  },
  {
   "cell_type": "code",
   "execution_count": 5,
   "id": "c0b7449c",
   "metadata": {},
   "outputs": [
    {
     "name": "stderr",
     "output_type": "stream",
     "text": [
      "2023-04-25 13:15:42.054975: I tensorflow/compiler/xla/stream_executor/cuda/cuda_gpu_executor.cc:996] successful NUMA node read from SysFS had negative value (-1), but there must be at least one NUMA node, so returning NUMA node zero. See more at https://github.com/torvalds/linux/blob/v6.0/Documentation/ABI/testing/sysfs-bus-pci#L344-L355\n",
      "2023-04-25 13:15:42.073618: I tensorflow/compiler/xla/stream_executor/cuda/cuda_gpu_executor.cc:996] successful NUMA node read from SysFS had negative value (-1), but there must be at least one NUMA node, so returning NUMA node zero. See more at https://github.com/torvalds/linux/blob/v6.0/Documentation/ABI/testing/sysfs-bus-pci#L344-L355\n",
      "2023-04-25 13:15:42.073752: I tensorflow/compiler/xla/stream_executor/cuda/cuda_gpu_executor.cc:996] successful NUMA node read from SysFS had negative value (-1), but there must be at least one NUMA node, so returning NUMA node zero. See more at https://github.com/torvalds/linux/blob/v6.0/Documentation/ABI/testing/sysfs-bus-pci#L344-L355\n",
      "2023-04-25 13:15:42.075210: I tensorflow/compiler/xla/stream_executor/cuda/cuda_gpu_executor.cc:996] successful NUMA node read from SysFS had negative value (-1), but there must be at least one NUMA node, so returning NUMA node zero. See more at https://github.com/torvalds/linux/blob/v6.0/Documentation/ABI/testing/sysfs-bus-pci#L344-L355\n",
      "2023-04-25 13:15:42.075312: I tensorflow/compiler/xla/stream_executor/cuda/cuda_gpu_executor.cc:996] successful NUMA node read from SysFS had negative value (-1), but there must be at least one NUMA node, so returning NUMA node zero. See more at https://github.com/torvalds/linux/blob/v6.0/Documentation/ABI/testing/sysfs-bus-pci#L344-L355\n",
      "2023-04-25 13:15:42.075376: I tensorflow/compiler/xla/stream_executor/cuda/cuda_gpu_executor.cc:996] successful NUMA node read from SysFS had negative value (-1), but there must be at least one NUMA node, so returning NUMA node zero. See more at https://github.com/torvalds/linux/blob/v6.0/Documentation/ABI/testing/sysfs-bus-pci#L344-L355\n",
      "2023-04-25 13:15:42.564171: I tensorflow/compiler/xla/stream_executor/cuda/cuda_gpu_executor.cc:996] successful NUMA node read from SysFS had negative value (-1), but there must be at least one NUMA node, so returning NUMA node zero. See more at https://github.com/torvalds/linux/blob/v6.0/Documentation/ABI/testing/sysfs-bus-pci#L344-L355\n",
      "2023-04-25 13:15:42.564315: I tensorflow/compiler/xla/stream_executor/cuda/cuda_gpu_executor.cc:996] successful NUMA node read from SysFS had negative value (-1), but there must be at least one NUMA node, so returning NUMA node zero. See more at https://github.com/torvalds/linux/blob/v6.0/Documentation/ABI/testing/sysfs-bus-pci#L344-L355\n",
      "2023-04-25 13:15:42.564382: I tensorflow/compiler/xla/stream_executor/cuda/cuda_gpu_executor.cc:996] successful NUMA node read from SysFS had negative value (-1), but there must be at least one NUMA node, so returning NUMA node zero. See more at https://github.com/torvalds/linux/blob/v6.0/Documentation/ABI/testing/sysfs-bus-pci#L344-L355\n",
      "2023-04-25 13:15:42.564444: I tensorflow/core/common_runtime/gpu/gpu_device.cc:1635] Created device /job:localhost/replica:0/task:0/device:GPU:0 with 4081 MB memory:  -> device: 0, name: NVIDIA GeForce RTX 3060 Laptop GPU, pci bus id: 0000:01:00.0, compute capability: 8.6\n"
     ]
    }
   ],
   "source": [
    "reconstructed_model = tf.keras.models.load_model(\"./model_detail/v1.0/\")"
   ]
  },
  {
   "cell_type": "code",
   "execution_count": 19,
   "id": "3f46a059",
   "metadata": {},
   "outputs": [
    {
     "name": "stdout",
     "output_type": "stream",
     "text": [
      "../Videos/training03/frame22.jpg\n",
      "1/1 [==============================] - 0s 12ms/step\n",
      "[70, 35]\n",
      "(420, 656)\n",
      "(1080, 1210, 3)\n"
     ]
    }
   ],
   "source": [
    "sample_id = 111\n",
    "sample_img_path = data.iloc[sample_id].Path\n",
    "\n",
    "original_image_path = f\"../Videos/{sample_img_path.split('/')[1]}/{sample_img_path.split('/')[2]}\"\n",
    "\n",
    "print(original_image_path)\n",
    "\n",
    "sample_img = np.array(load_img(sample_img_path))\n",
    "\n",
    "expanded_img = np.expand_dims(sample_img, axis=0)\n",
    "    \n",
    "predicted = list(map(int, reconstructed_model.predict(expanded_img)[0]))\n",
    "print(predicted)\n",
    "radius = 5\n",
    "color = (0, 255, 0)\n",
    "thickness = 5\n",
    "\n",
    "scaled_coordinations = compute_original_coordination(predicted, (data.iloc[sample_id].OriginalBoxCoordinationX1, data.iloc[sample_id].OriginalBoxCoordinationY1))\n",
    "\n",
    "print(scaled_coordinations)\n",
    "\n",
    "original_sample_img = np.array(load_img(original_image_path))\n",
    "\n",
    "print(original_sample_img.shape)\n",
    "\n",
    "annotated_img = cv2.circle(sample_img, predicted, radius, color, thickness)\n",
    "\n",
    "original_annotated_img = cv2.circle(original_sample_img, scaled_coordinations, radius, color, thickness)\n",
    "\n",
    "cv2.imshow('Sample', original_sample_img)\n",
    "cv2.waitKey(0)\n",
    "cv2.destroyAllWindows()"
   ]
  },
  {
   "cell_type": "code",
   "execution_count": 5,
   "id": "2d5edbd0",
   "metadata": {},
   "outputs": [],
   "source": [
    "sample_img_path = '../Videos/training04/frame19.jpg'\n",
    "\n",
    "sample_img = np.array(load_img(sample_img_path))\n",
    "\n",
    "expanded_img = np.expand_dims(sample_img, axis=0)\n",
    "    \n",
    "predicted = list(map(int, reconstructed_model.predict(expanded_img)[0]))\n",
    "print(predicted)\n",
    "radius = 5\n",
    "color = (0, 255, 0)\n",
    "thickness = 5\n",
    "\n",
    "annotated_img = cv2.circle(sample_img, predicted, radius, color, thickness)\n",
    "\n",
    "cv2.imshow('Sample', annotated_img)\n",
    "cv2.waitKey(0)\n",
    "cv2.destroyAllWindows()"
   ]
  },
  {
   "cell_type": "code",
   "execution_count": null,
   "id": "dfb21335",
   "metadata": {},
   "outputs": [],
   "source": []
  }
 ],
 "metadata": {
  "kernelspec": {
   "display_name": "Python 3 (ipykernel)",
   "language": "python",
   "name": "python3"
  },
  "language_info": {
   "codemirror_mode": {
    "name": "ipython",
    "version": 3
   },
   "file_extension": ".py",
   "mimetype": "text/x-python",
   "name": "python",
   "nbconvert_exporter": "python",
   "pygments_lexer": "ipython3",
   "version": "3.9.16"
  }
 },
 "nbformat": 4,
 "nbformat_minor": 5
}
