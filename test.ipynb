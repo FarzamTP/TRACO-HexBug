{
 "cells": [
  {
   "cell_type": "code",
   "execution_count": 9,
   "id": "47439d2c",
   "metadata": {},
   "outputs": [],
   "source": [
    "import cv2\n",
    "import json"
   ]
  },
  {
   "cell_type": "code",
   "execution_count": 10,
   "id": "6400c377",
   "metadata": {},
   "outputs": [],
   "source": [
    "frame_id = 34\n",
    "\n",
    "sample_img = cv2.imread(f'./Videos/training01/frame{frame_id}.jpg')\n",
    "\n",
    "with open('./Annotations/training01.traco') as file:\n",
    "    sample_ann = json.load(file)"
   ]
  },
  {
   "cell_type": "code",
   "execution_count": 11,
   "id": "52307390",
   "metadata": {},
   "outputs": [],
   "source": [
    "for i in range(100):\n",
    "#     center = (int(sample_ann['rois'][i]['pos'][0]), int(sample_ann['rois'][i]['pos'][1]))\n",
    "#     radius = 5\n",
    "    color = (255, 0, 0)\n",
    "    thickness = 3\n",
    "    \n",
    "    start_point = (int(sample_ann['rois'][i]['pos'][0]), int(sample_ann['rois'][i]['pos'][1]))\n",
    "    end_point = (int(sample_ann['rois'][i + 1]['pos'][0]), int(sample_ann['rois'][i + 1]['pos'][1]))\n",
    "#     sample_img = cv2.circle(sample_img, center, radius, color, thickness)\n",
    "    sample_img = cv2.arrowedLine(sample_img, start_point, end_point, color, thickness)\n",
    "\n",
    "cv2.imshow('sample', sample_img)\n",
    "cv2.waitKey(0)\n",
    "cv2.destroyAllWindows()"
   ]
  },
  {
   "cell_type": "code",
   "execution_count": 7,
   "id": "8a0f3529",
   "metadata": {},
   "outputs": [],
   "source": [
    "# center = (int(sample_ann['rois'][frame_id]['pos'][0]), int(sample_ann['rois'][frame_id]['pos'][1]))\n",
    "# radius = 10\n",
    "# color = (0, 255, 0)\n",
    "# thickness = -1"
   ]
  },
  {
   "cell_type": "code",
   "execution_count": 8,
   "id": "2a6bc6e3",
   "metadata": {},
   "outputs": [],
   "source": [
    "# annotated_image = cv2.circle(sample_img, center, radius, color, thickness)\n",
    "# cv2.imshow('sample', annotated_image)\n",
    "# cv2.waitKey(0)\n",
    "# cv2.destroyAllWindows()"
   ]
  },
  {
   "cell_type": "code",
   "execution_count": null,
   "id": "68339146",
   "metadata": {},
   "outputs": [],
   "source": []
  }
 ],
 "metadata": {
  "kernelspec": {
   "display_name": "Python 3 (ipykernel)",
   "language": "python",
   "name": "python3"
  },
  "language_info": {
   "codemirror_mode": {
    "name": "ipython",
    "version": 3
   },
   "file_extension": ".py",
   "mimetype": "text/x-python",
   "name": "python",
   "nbconvert_exporter": "python",
   "pygments_lexer": "ipython3",
   "version": "3.9.16"
  }
 },
 "nbformat": 4,
 "nbformat_minor": 5
}
